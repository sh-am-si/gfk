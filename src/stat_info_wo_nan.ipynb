{
 "metadata": {
  "orig_nbformat": 2,
  "kernelspec": {
   "name": "python3",
   "display_name": "Python 3",
   "language": "python"
  }
 },
 "nbformat": 4,
 "nbformat_minor": 2,
 "cells": [
  {
   "cell_type": "code",
   "execution_count": null,
   "metadata": {},
   "outputs": [],
   "source": [
    "%load_ext autoreload\n",
    "%autoreload 2\n",
    "\n",
    "import pandas as pd\n",
    "import numpy as np\n",
    "\n",
    "import matplotlib.pylab as plt\n",
    "from matplotlib_venn import venn3\n",
    "from venn import venn\n",
    "%matplotlib inline\n",
    "\n",
    "import seaborn as sns\n",
    "\n",
    "from utils import prepare_df"
   ]
  },
  {
   "cell_type": "code",
   "execution_count": null,
   "metadata": {},
   "outputs": [],
   "source": [
    "df = prepare_df(droprows=['delivery_type_id', 'predict_automatch', 'country_id_n'])\n",
    "df.head()"
   ]
  },
  {
   "cell_type": "code",
   "execution_count": null,
   "metadata": {},
   "outputs": [],
   "source": [
    "df.corr()"
   ]
  },
  {
   "cell_type": "code",
   "execution_count": null,
   "metadata": {},
   "outputs": [],
   "source": [
    "fig = plt.figure(figsize=(8,8))\n",
    "ax = fig.gca()\n",
    "sns.color_palette(\"pastel\")\n",
    "sns.heatmap(df.corr(), ax=ax, square=True, cmap=\"YlGnBu\")\n",
    "plt.savefig('../pics/corr_matrix_wo_nan.png')\n",
    "plt.show()"
   ]
  },
  {
   "cell_type": "code",
   "execution_count": null,
   "metadata": {},
   "outputs": [],
   "source": [
    "df.columns"
   ]
  },
  {
   "cell_type": "code",
   "execution_count": null,
   "metadata": {},
   "outputs": [],
   "source": [
    "columns = ['period_end_date', 'translated_when', 'if_data_corrected', 'prod_gr_id',\n",
    "       'country_id_n', 'delivery_type_id', 'freq_id', 'retailer_id',\n",
    "       'brand_id', 'predict_automatch', 'class_acctual']"
   ]
  },
  {
   "cell_type": "code",
   "execution_count": null,
   "metadata": {},
   "outputs": [],
   "source": [
    "for column in ['if_data_corrected', 'prod_gr_id', 'country_id_n', 'delivery_type_id', 'freq_id', 'retailer_id', 'brand_id']:\n",
    "    fig, (ax1, ax2) = plt.subplots(1, 2)\n",
    "    ax1.set_title(column)\n",
    "    ax2.set_title(column)\n",
    "    sns.countplot(x=column, hue='predict_automatch', data=df, ax=ax1)\n",
    "    sns.countplot(x=column, hue='class_acctual', data=df, ax=ax2)\n",
    "    plt.savefig(f'../pics/countplot_{column}_wo_nan.png')\n",
    "plt.show()"
   ]
  },
  {
   "cell_type": "code",
   "execution_count": null,
   "metadata": {},
   "outputs": [],
   "source": [
    "sns.pairplot(df[['if_data_corrected', 'prod_gr_id', 'country_id_n', 'delivery_type_id', 'freq_id', 'retailer_id', 'brand_id', 'class_acctual']], \n",
    "             hue='class_acctual',\n",
    "             palette='pastel')\n",
    "plt.savefig('../pics/pp_hue_class_actual_wo_nan.png')"
   ]
  },
  {
   "cell_type": "code",
   "execution_count": null,
   "metadata": {},
   "outputs": [],
   "source": [
    "sns.pairplot(df[['if_data_corrected', 'prod_gr_id', 'country_id_n', 'delivery_type_id', 'freq_id', 'retailer_id', 'brand_id', 'predict_automatch']], \n",
    "             hue='predict_automatch',\n",
    "             palette='pastel')\n",
    "plt.savefig('../pics/pp_hue_predict_automatch_wo_nan.png')"
   ]
  },
  {
   "cell_type": "code",
   "execution_count": null,
   "metadata": {},
   "outputs": [],
   "source": []
  }
 ]
}