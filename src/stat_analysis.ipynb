{
 "metadata": {
  "orig_nbformat": 2,
  "kernelspec": {
   "name": "python3",
   "display_name": "Python 3",
   "language": "python"
  }
 },
 "nbformat": 4,
 "nbformat_minor": 2,
 "cells": [
  {
   "cell_type": "code",
   "execution_count": 1,
   "metadata": {},
   "outputs": [],
   "source": [
    "%load_ext autoreload\n",
    "%autoreload 2\n",
    "\n",
    "import pandas as pd\n",
    "import numpy as np\n",
    "import scipy.stats\n",
    "import statistics as st\n",
    "from sklearn.metrics import confusion_matrix\n",
    "\n",
    "import datetime\n",
    "\n",
    "import matplotlib.pylab as plt\n",
    "from matplotlib_venn import venn3\n",
    "from venn import venn\n",
    "%matplotlib inline\n",
    "\n",
    "from utils import prepare_df"
   ]
  },
  {
   "cell_type": "code",
   "execution_count": 3,
   "metadata": {},
   "outputs": [
    {
     "output_type": "execute_result",
     "data": {
      "text/plain": [
       "            period_end_date           translated_when  if_data_corrected  \\\n",
       "2 2020-09-20 00:00:00+00:00 2020-09-23 12:27:51+00:00                  0   \n",
       "3 2020-09-20 00:00:00+00:00 2020-09-23 12:26:41+00:00                  0   \n",
       "4 2020-09-20 00:00:00+00:00 2020-09-22 09:40:36+00:00                  0   \n",
       "5 2020-09-20 00:00:00+00:00 2020-09-25 15:31:09+00:00                  0   \n",
       "6 2020-09-20 00:00:00+00:00 2020-09-22 11:18:00+00:00                  0   \n",
       "\n",
       "   prod_gr_id  country_id_n  delivery_type_id  freq_id  retailer_id  brand_id  \\\n",
       "2         426         121.0           42730.0        2           30        37   \n",
       "3         426         121.0           42730.0        2           92       203   \n",
       "4         426         121.0           50128.0        2            9        31   \n",
       "5         426         121.0           19105.0        2          145       205   \n",
       "6         427         108.0           47990.0        1          172       237   \n",
       "\n",
       "   predict_automatch  class_acctual  \n",
       "2                1.0              1  \n",
       "3                1.0              1  \n",
       "4                1.0              1  \n",
       "5                1.0              1  \n",
       "6                1.0              1  "
      ],
      "text/html": "<div>\n<style scoped>\n    .dataframe tbody tr th:only-of-type {\n        vertical-align: middle;\n    }\n\n    .dataframe tbody tr th {\n        vertical-align: top;\n    }\n\n    .dataframe thead th {\n        text-align: right;\n    }\n</style>\n<table border=\"1\" class=\"dataframe\">\n  <thead>\n    <tr style=\"text-align: right;\">\n      <th></th>\n      <th>period_end_date</th>\n      <th>translated_when</th>\n      <th>if_data_corrected</th>\n      <th>prod_gr_id</th>\n      <th>country_id_n</th>\n      <th>delivery_type_id</th>\n      <th>freq_id</th>\n      <th>retailer_id</th>\n      <th>brand_id</th>\n      <th>predict_automatch</th>\n      <th>class_acctual</th>\n    </tr>\n  </thead>\n  <tbody>\n    <tr>\n      <th>2</th>\n      <td>2020-09-20 00:00:00+00:00</td>\n      <td>2020-09-23 12:27:51+00:00</td>\n      <td>0</td>\n      <td>426</td>\n      <td>121.0</td>\n      <td>42730.0</td>\n      <td>2</td>\n      <td>30</td>\n      <td>37</td>\n      <td>1.0</td>\n      <td>1</td>\n    </tr>\n    <tr>\n      <th>3</th>\n      <td>2020-09-20 00:00:00+00:00</td>\n      <td>2020-09-23 12:26:41+00:00</td>\n      <td>0</td>\n      <td>426</td>\n      <td>121.0</td>\n      <td>42730.0</td>\n      <td>2</td>\n      <td>92</td>\n      <td>203</td>\n      <td>1.0</td>\n      <td>1</td>\n    </tr>\n    <tr>\n      <th>4</th>\n      <td>2020-09-20 00:00:00+00:00</td>\n      <td>2020-09-22 09:40:36+00:00</td>\n      <td>0</td>\n      <td>426</td>\n      <td>121.0</td>\n      <td>50128.0</td>\n      <td>2</td>\n      <td>9</td>\n      <td>31</td>\n      <td>1.0</td>\n      <td>1</td>\n    </tr>\n    <tr>\n      <th>5</th>\n      <td>2020-09-20 00:00:00+00:00</td>\n      <td>2020-09-25 15:31:09+00:00</td>\n      <td>0</td>\n      <td>426</td>\n      <td>121.0</td>\n      <td>19105.0</td>\n      <td>2</td>\n      <td>145</td>\n      <td>205</td>\n      <td>1.0</td>\n      <td>1</td>\n    </tr>\n    <tr>\n      <th>6</th>\n      <td>2020-09-20 00:00:00+00:00</td>\n      <td>2020-09-22 11:18:00+00:00</td>\n      <td>0</td>\n      <td>427</td>\n      <td>108.0</td>\n      <td>47990.0</td>\n      <td>1</td>\n      <td>172</td>\n      <td>237</td>\n      <td>1.0</td>\n      <td>1</td>\n    </tr>\n  </tbody>\n</table>\n</div>"
     },
     "metadata": {},
     "execution_count": 3
    }
   ],
   "source": [
    "col = ['period_end_date', 'delivery_type_id', 'predict_automatch', 'country_id_n']\n",
    "df = prepare_df(droprows=col)\n",
    "df.head()"
   ]
  },
  {
   "cell_type": "code",
   "execution_count": 34,
   "metadata": {},
   "outputs": [],
   "source": [
    "dec1st = datetime.date(year=2020, month=12, day=1)\n",
    "df1 = df[df['translated_when'].dt.date <= dec1st]"
   ]
  },
  {
   "cell_type": "code",
   "execution_count": 35,
   "metadata": {},
   "outputs": [],
   "source": [
    "df2 = df[df['translated_when'].dt.date > dec1st]"
   ]
  },
  {
   "cell_type": "code",
   "execution_count": 36,
   "metadata": {},
   "outputs": [
    {
     "output_type": "execute_result",
     "data": {
      "text/plain": [
       "            period_end_date           translated_when  if_data_corrected  \\\n",
       "0                       NaT 2020-10-15 06:58:28+00:00                  0   \n",
       "1                       NaT 2020-10-15 06:38:34+00:00                  0   \n",
       "2 2020-09-20 00:00:00+00:00 2020-09-23 12:27:51+00:00                  0   \n",
       "3 2020-09-20 00:00:00+00:00 2020-09-23 12:26:41+00:00                  0   \n",
       "4 2020-09-20 00:00:00+00:00 2020-09-22 09:40:36+00:00                  0   \n",
       "\n",
       "   prod_gr_id  country_id_n  delivery_type_id  freq_id  retailer_id  brand_id  \\\n",
       "0         426         121.0               NaN        2           96       111   \n",
       "1         426           NaN               NaN        2           92        95   \n",
       "2         426         121.0           42730.0        2           30        37   \n",
       "3         426         121.0           42730.0        2           92       203   \n",
       "4         426         121.0           50128.0        2            9        31   \n",
       "\n",
       "   predict_automatch  class_acctual  \n",
       "0                1.0              1  \n",
       "1                0.0              1  \n",
       "2                1.0              1  \n",
       "3                1.0              1  \n",
       "4                1.0              1  "
      ],
      "text/html": "<div>\n<style scoped>\n    .dataframe tbody tr th:only-of-type {\n        vertical-align: middle;\n    }\n\n    .dataframe tbody tr th {\n        vertical-align: top;\n    }\n\n    .dataframe thead th {\n        text-align: right;\n    }\n</style>\n<table border=\"1\" class=\"dataframe\">\n  <thead>\n    <tr style=\"text-align: right;\">\n      <th></th>\n      <th>period_end_date</th>\n      <th>translated_when</th>\n      <th>if_data_corrected</th>\n      <th>prod_gr_id</th>\n      <th>country_id_n</th>\n      <th>delivery_type_id</th>\n      <th>freq_id</th>\n      <th>retailer_id</th>\n      <th>brand_id</th>\n      <th>predict_automatch</th>\n      <th>class_acctual</th>\n    </tr>\n  </thead>\n  <tbody>\n    <tr>\n      <th>0</th>\n      <td>NaT</td>\n      <td>2020-10-15 06:58:28+00:00</td>\n      <td>0</td>\n      <td>426</td>\n      <td>121.0</td>\n      <td>NaN</td>\n      <td>2</td>\n      <td>96</td>\n      <td>111</td>\n      <td>1.0</td>\n      <td>1</td>\n    </tr>\n    <tr>\n      <th>1</th>\n      <td>NaT</td>\n      <td>2020-10-15 06:38:34+00:00</td>\n      <td>0</td>\n      <td>426</td>\n      <td>NaN</td>\n      <td>NaN</td>\n      <td>2</td>\n      <td>92</td>\n      <td>95</td>\n      <td>0.0</td>\n      <td>1</td>\n    </tr>\n    <tr>\n      <th>2</th>\n      <td>2020-09-20 00:00:00+00:00</td>\n      <td>2020-09-23 12:27:51+00:00</td>\n      <td>0</td>\n      <td>426</td>\n      <td>121.0</td>\n      <td>42730.0</td>\n      <td>2</td>\n      <td>30</td>\n      <td>37</td>\n      <td>1.0</td>\n      <td>1</td>\n    </tr>\n    <tr>\n      <th>3</th>\n      <td>2020-09-20 00:00:00+00:00</td>\n      <td>2020-09-23 12:26:41+00:00</td>\n      <td>0</td>\n      <td>426</td>\n      <td>121.0</td>\n      <td>42730.0</td>\n      <td>2</td>\n      <td>92</td>\n      <td>203</td>\n      <td>1.0</td>\n      <td>1</td>\n    </tr>\n    <tr>\n      <th>4</th>\n      <td>2020-09-20 00:00:00+00:00</td>\n      <td>2020-09-22 09:40:36+00:00</td>\n      <td>0</td>\n      <td>426</td>\n      <td>121.0</td>\n      <td>50128.0</td>\n      <td>2</td>\n      <td>9</td>\n      <td>31</td>\n      <td>1.0</td>\n      <td>1</td>\n    </tr>\n  </tbody>\n</table>\n</div>"
     },
     "metadata": {},
     "execution_count": 36
    }
   ],
   "source": [
    "dfn = prepare_df()\n",
    "dfn.head()"
   ]
  },
  {
   "cell_type": "code",
   "execution_count": 37,
   "metadata": {},
   "outputs": [
    {
     "output_type": "execute_result",
     "data": {
      "text/plain": [
       "            period_end_date           translated_when  if_data_corrected  \\\n",
       "0                       NaT 2020-10-15 06:58:28+00:00                  0   \n",
       "1                       NaT 2020-10-15 06:38:34+00:00                  0   \n",
       "2 2020-09-20 00:00:00+00:00 2020-09-23 12:27:51+00:00                  0   \n",
       "3 2020-09-20 00:00:00+00:00 2020-09-23 12:26:41+00:00                  0   \n",
       "4 2020-09-20 00:00:00+00:00 2020-09-22 09:40:36+00:00                  0   \n",
       "\n",
       "   prod_gr_id  country_id_n  delivery_type_id  freq_id  retailer_id  brand_id  \\\n",
       "0         426         121.0               NaN        2           96       111   \n",
       "1         426           NaN               NaN        2           92        95   \n",
       "2         426         121.0           42730.0        2           30        37   \n",
       "3         426         121.0           42730.0        2           92       203   \n",
       "4         426         121.0           50128.0        2            9        31   \n",
       "\n",
       "   predict_automatch  class_acctual  \n",
       "0                1.0              1  \n",
       "1                0.0              1  \n",
       "2                1.0              1  \n",
       "3                1.0              1  \n",
       "4                1.0              1  "
      ],
      "text/html": "<div>\n<style scoped>\n    .dataframe tbody tr th:only-of-type {\n        vertical-align: middle;\n    }\n\n    .dataframe tbody tr th {\n        vertical-align: top;\n    }\n\n    .dataframe thead th {\n        text-align: right;\n    }\n</style>\n<table border=\"1\" class=\"dataframe\">\n  <thead>\n    <tr style=\"text-align: right;\">\n      <th></th>\n      <th>period_end_date</th>\n      <th>translated_when</th>\n      <th>if_data_corrected</th>\n      <th>prod_gr_id</th>\n      <th>country_id_n</th>\n      <th>delivery_type_id</th>\n      <th>freq_id</th>\n      <th>retailer_id</th>\n      <th>brand_id</th>\n      <th>predict_automatch</th>\n      <th>class_acctual</th>\n    </tr>\n  </thead>\n  <tbody>\n    <tr>\n      <th>0</th>\n      <td>NaT</td>\n      <td>2020-10-15 06:58:28+00:00</td>\n      <td>0</td>\n      <td>426</td>\n      <td>121.0</td>\n      <td>NaN</td>\n      <td>2</td>\n      <td>96</td>\n      <td>111</td>\n      <td>1.0</td>\n      <td>1</td>\n    </tr>\n    <tr>\n      <th>1</th>\n      <td>NaT</td>\n      <td>2020-10-15 06:38:34+00:00</td>\n      <td>0</td>\n      <td>426</td>\n      <td>NaN</td>\n      <td>NaN</td>\n      <td>2</td>\n      <td>92</td>\n      <td>95</td>\n      <td>0.0</td>\n      <td>1</td>\n    </tr>\n    <tr>\n      <th>2</th>\n      <td>2020-09-20 00:00:00+00:00</td>\n      <td>2020-09-23 12:27:51+00:00</td>\n      <td>0</td>\n      <td>426</td>\n      <td>121.0</td>\n      <td>42730.0</td>\n      <td>2</td>\n      <td>30</td>\n      <td>37</td>\n      <td>1.0</td>\n      <td>1</td>\n    </tr>\n    <tr>\n      <th>3</th>\n      <td>2020-09-20 00:00:00+00:00</td>\n      <td>2020-09-23 12:26:41+00:00</td>\n      <td>0</td>\n      <td>426</td>\n      <td>121.0</td>\n      <td>42730.0</td>\n      <td>2</td>\n      <td>92</td>\n      <td>203</td>\n      <td>1.0</td>\n      <td>1</td>\n    </tr>\n    <tr>\n      <th>4</th>\n      <td>2020-09-20 00:00:00+00:00</td>\n      <td>2020-09-22 09:40:36+00:00</td>\n      <td>0</td>\n      <td>426</td>\n      <td>121.0</td>\n      <td>50128.0</td>\n      <td>2</td>\n      <td>9</td>\n      <td>31</td>\n      <td>1.0</td>\n      <td>1</td>\n    </tr>\n  </tbody>\n</table>\n</div>"
     },
     "metadata": {},
     "execution_count": 37
    }
   ],
   "source": [
    "dec1st = datetime.date(year=2020, month=12, day=1)\n",
    "dfn1 = dfn[dfn['translated_when'].dt.date <= dec1st]\n",
    "dfn1.head()"
   ]
  },
  {
   "cell_type": "code",
   "execution_count": null,
   "metadata": {},
   "outputs": [],
   "source": []
  },
  {
   "source": [
    "## Covariance"
   ],
   "cell_type": "markdown",
   "metadata": {}
  },
  {
   "source": [
    "## Bivariate analysis"
   ],
   "cell_type": "markdown",
   "metadata": {}
  },
  {
   "cell_type": "code",
   "execution_count": 38,
   "metadata": {},
   "outputs": [
    {
     "output_type": "stream",
     "name": "stdout",
     "text": [
      "df\ncovariance\n[[0.22376943 0.12590514]\n [0.12590514 0.19133339]]\ncorrelation\n[[1.         0.60848196]\n [0.60848196 1.        ]]\nr=0.6084819614535691, p=0.0\nlin regression = LinregressResult(slope=0.5626556801855788, intercept=0.36975753604194067, rvalue=0.6084819614535675, pvalue=0.0, stderr=0.005460798932676295, intercept_stderr=0.004443079941328524)\ndf1\ncovariance\n[[0.22286916 0.12683907]\n [0.12683907 0.19103953]]\ncorrelation\n[[1.         0.61470455]\n [0.61470455 1.        ]]\nr=0.6147045539848507, p=0.0\nlin regression = LinregressResult(slope=0.5691189632857133, intercept=0.36451668684073774, rvalue=0.614704553984855, pvalue=0.0, stderr=0.0055604600831566835, intercept_stderr=0.004533577914731626)\ndf2\ncovariance\n[[0.23964312 0.10532652]\n [0.10532652 0.19766794]]\ncorrelation\n[[1.         0.48393513]\n [0.48393513 1.        ]]\nr=0.48393512615134227, p=1.0091290177519133e-48\nlin regression = LinregressResult(slope=0.43951406976150376, intercept=0.4641744548286603, rvalue=0.48393512615134265, pvalue=1.0091290177516937e-48, stderr=0.0279774724054584, intercept_stderr=0.021729219462132476)\ndfn\ncovariance\n[[       nan        nan]\n [       nan 0.19085877]]\ncorrelation\n[[nan nan]\n [nan  1.]]\nlin regression = LinregressResult(slope=nan, intercept=nan, rvalue=nan, pvalue=nan, stderr=nan, intercept_stderr=nan)\ndfn1\ncovariance\n[[       nan        nan]\n [       nan 0.19067085]]\ncorrelation\n[[nan nan]\n [nan  1.]]\nlin regression = LinregressResult(slope=nan, intercept=nan, rvalue=nan, pvalue=nan, stderr=nan, intercept_stderr=nan)\n"
     ]
    }
   ],
   "source": [
    "for name, _df in zip(['df', 'df1', 'df2', 'dfn', 'dfn1'], [df, df1, df2, dfn, dfn1]):\n",
    "    print(name)\n",
    "    print('covariance')\n",
    "    print(np.cov(_df['predict_automatch'], _df['class_acctual']))\n",
    "    print('correlation')\n",
    "    print(np.corrcoef(_df['predict_automatch'], _df['class_acctual']))\n",
    "    if  np.sum(pd.isna(_df['predict_automatch']))==0 and np.sum(pd.isna(_df['class_acctual'])) == 0:\n",
    "        r, p = scipy.stats.pearsonr(_df['predict_automatch'], _df['class_acctual'])\n",
    "        print(f'r={r}, p={p}' )\n",
    "\n",
    "    result = scipy.stats.linregress(_df['predict_automatch'], _df['class_acctual'])\n",
    "    print(f'lin regression = {result}')\n",
    "\n"
   ]
  },
  {
   "source": [
    "## Bivariate analysis by days"
   ],
   "cell_type": "markdown",
   "metadata": {}
  },
  {
   "cell_type": "code",
   "execution_count": 5,
   "metadata": {},
   "outputs": [
    {
     "output_type": "execute_result",
     "data": {
      "text/plain": [
       "            period_end_date           translated_when  if_data_corrected  \\\n",
       "2 2020-09-20 00:00:00+00:00 2020-09-23 12:27:51+00:00                  0   \n",
       "3 2020-09-20 00:00:00+00:00 2020-09-23 12:26:41+00:00                  0   \n",
       "4 2020-09-20 00:00:00+00:00 2020-09-22 09:40:36+00:00                  0   \n",
       "5 2020-09-20 00:00:00+00:00 2020-09-25 15:31:09+00:00                  0   \n",
       "6 2020-09-20 00:00:00+00:00 2020-09-22 11:18:00+00:00                  0   \n",
       "\n",
       "   prod_gr_id  country_id_n  delivery_type_id  freq_id  retailer_id  brand_id  \\\n",
       "2         426         121.0           42730.0        2           30        37   \n",
       "3         426         121.0           42730.0        2           92       203   \n",
       "4         426         121.0           50128.0        2            9        31   \n",
       "5         426         121.0           19105.0        2          145       205   \n",
       "6         427         108.0           47990.0        1          172       237   \n",
       "\n",
       "   predict_automatch  class_acctual  \n",
       "2                1.0              1  \n",
       "3                1.0              1  \n",
       "4                1.0              1  \n",
       "5                1.0              1  \n",
       "6                1.0              1  "
      ],
      "text/html": "<div>\n<style scoped>\n    .dataframe tbody tr th:only-of-type {\n        vertical-align: middle;\n    }\n\n    .dataframe tbody tr th {\n        vertical-align: top;\n    }\n\n    .dataframe thead th {\n        text-align: right;\n    }\n</style>\n<table border=\"1\" class=\"dataframe\">\n  <thead>\n    <tr style=\"text-align: right;\">\n      <th></th>\n      <th>period_end_date</th>\n      <th>translated_when</th>\n      <th>if_data_corrected</th>\n      <th>prod_gr_id</th>\n      <th>country_id_n</th>\n      <th>delivery_type_id</th>\n      <th>freq_id</th>\n      <th>retailer_id</th>\n      <th>brand_id</th>\n      <th>predict_automatch</th>\n      <th>class_acctual</th>\n    </tr>\n  </thead>\n  <tbody>\n    <tr>\n      <th>2</th>\n      <td>2020-09-20 00:00:00+00:00</td>\n      <td>2020-09-23 12:27:51+00:00</td>\n      <td>0</td>\n      <td>426</td>\n      <td>121.0</td>\n      <td>42730.0</td>\n      <td>2</td>\n      <td>30</td>\n      <td>37</td>\n      <td>1.0</td>\n      <td>1</td>\n    </tr>\n    <tr>\n      <th>3</th>\n      <td>2020-09-20 00:00:00+00:00</td>\n      <td>2020-09-23 12:26:41+00:00</td>\n      <td>0</td>\n      <td>426</td>\n      <td>121.0</td>\n      <td>42730.0</td>\n      <td>2</td>\n      <td>92</td>\n      <td>203</td>\n      <td>1.0</td>\n      <td>1</td>\n    </tr>\n    <tr>\n      <th>4</th>\n      <td>2020-09-20 00:00:00+00:00</td>\n      <td>2020-09-22 09:40:36+00:00</td>\n      <td>0</td>\n      <td>426</td>\n      <td>121.0</td>\n      <td>50128.0</td>\n      <td>2</td>\n      <td>9</td>\n      <td>31</td>\n      <td>1.0</td>\n      <td>1</td>\n    </tr>\n    <tr>\n      <th>5</th>\n      <td>2020-09-20 00:00:00+00:00</td>\n      <td>2020-09-25 15:31:09+00:00</td>\n      <td>0</td>\n      <td>426</td>\n      <td>121.0</td>\n      <td>19105.0</td>\n      <td>2</td>\n      <td>145</td>\n      <td>205</td>\n      <td>1.0</td>\n      <td>1</td>\n    </tr>\n    <tr>\n      <th>6</th>\n      <td>2020-09-20 00:00:00+00:00</td>\n      <td>2020-09-22 11:18:00+00:00</td>\n      <td>0</td>\n      <td>427</td>\n      <td>108.0</td>\n      <td>47990.0</td>\n      <td>1</td>\n      <td>172</td>\n      <td>237</td>\n      <td>1.0</td>\n      <td>1</td>\n    </tr>\n  </tbody>\n</table>\n</div>"
     },
     "metadata": {},
     "execution_count": 5
    }
   ],
   "source": [
    "dfcf = df[~df['country_id_n'].isin([106.0, 109.0])]\n",
    "dfcf.head() \n"
   ]
  },
  {
   "cell_type": "code",
   "execution_count": 6,
   "metadata": {},
   "outputs": [
    {
     "output_type": "stream",
     "name": "stdout",
     "text": [
      "\n 2020-08-30 00:00:00+00:00 \n\ncovariance\n[[0.18865655 0.12110154]\n [0.12110154 0.16670767]]\ncorrelation\n[[1.         0.68286672]\n [0.68286672 1.        ]]\nlin regression = LinregressResult(slope=0.6419153868443949, intercept=0.3088235294117632, rvalue=0.6828667186724068, pvalue=1.4832744874774228e-38, stderr=0.04187082042272948, intercept_stderr=0.03623888644415803)\n[[ 47  21]\n [ 10 193]]\n\n 2020-09-01 00:00:00+00:00 \n\ncovariance\n[[0.21885862 0.14281858]\n [0.14281858 0.19764882]]\ncorrelation\n[[1.         0.68668216]\n [0.68668216 1.        ]]\nlin regression = LinregressResult(slope=0.652560901744696, intercept=0.28740157480314743, rvalue=0.6866821596281161, pvalue=7.974571261611519e-111, stderr=0.02465696646978908, intercept_stderr=0.020291580855567648)\n[[181  73]\n [ 32 501]]\n\n 2020-09-06 00:00:00+00:00 \n\ncovariance\n[[0.22232332 0.14700895]\n [0.14700895 0.18641222]]\ncorrelation\n[[1.         0.72212784]\n [0.72212784 1.        ]]\nlin regression = LinregressResult(slope=0.6612394605595697, intercept=0.311475409836065, rvalue=0.722127835982489, pvalue=8.987369660583766e-178, stderr=0.01912478572235311, intercept_stderr=0.015618873915440973)\n[[252 114]\n [ 20 713]]\n\n 2020-09-13 00:00:00+00:00 \n\ncovariance\n[[0.21470966 0.15204868]\n [0.15204868 0.19671216]]\ncorrelation\n[[1.         0.73984588]\n [0.73984588 1.        ]]\nlin regression = LinregressResult(slope=0.708159476661947, intercept=0.2437500000000033, rvalue=0.7398458768328897, pvalue=1.2430724628123697e-178, stderr=0.020114008374751892, intercept_stderr=0.016688723208709327)\n[[242  78]\n [ 34 673]]\n\n 2020-09-20 00:00:00+00:00 \n\ncovariance\n[[0.21781141 0.15451523]\n [0.15451523 0.20017611]]\ncorrelation\n[[1.        0.7399883]\n [0.7399883 1.       ]]\nlin regression = LinregressResult(slope=0.7093991534781011, intercept=0.24125874125874108, rvalue=0.7399883034129628, pvalue=8.462526478588529e-156, stderr=0.02159001731082373, intercept_stderr=0.0178047557703335)\n[[217  69]\n [ 30 578]]\n\n 2020-09-27 00:00:00+00:00 \n\ncovariance\n[[0.21950658 0.14605773]\n [0.14605773 0.1889798 ]]\ncorrelation\n[[1.         0.71712208]\n [0.71712208 1.        ]]\nlin regression = LinregressResult(slope=0.6653911519558502, intercept=0.298102981029809, rvalue=0.7171220776578873, pvalue=5.0993207288051146e-180, stderr=0.019203372841801906, intercept_stderr=0.015779238129615486)\n[[259 110]\n [ 28 739]]\n\n 2020-10-01 00:00:00+00:00 \n\ncovariance\n[[0.21162407 0.12033117]\n [0.12033117 0.1823939 ]]\ncorrelation\n[[1.         0.61247793]\n [0.61247793 1.        ]]\nlin regression = LinregressResult(slope=0.5686081300116391, intercept=0.36437246963562736, rvalue=0.6124779256199738, pvalue=5.621920207563319e-85, stderr=0.02575370529066603, intercept_stderr=0.021494089285932046)\n[[157  90]\n [ 38 529]]\n\n 2020-10-04 00:00:00+00:00 \n\ncovariance\n[[0.22243346 0.14036755]\n [0.14036755 0.18991547]]\ncorrelation\n[[1.         0.68294622]\n [0.68294622 1.        ]]\nlin regression = LinregressResult(slope=0.6310541310541311, intercept=0.32478632478632474, rvalue=0.6829462158881843, pvalue=1.5901873445540543e-145, stderr=0.020819981630511377, intercept_stderr=0.016999443816290608)\n[[237 114]\n [ 31 671]]\n\n 2020-10-11 00:00:00+00:00 \n\ncovariance\n[[0.22182789 0.1436725 ]\n [0.1436725  0.19848533]]\ncorrelation\n[[1.         0.68470165]\n [0.68470165 1.        ]]\nlin regression = LinregressResult(slope=0.6476755549350827, intercept=0.294429708222812, rvalue=0.6847016515832447, pvalue=4.118880597099845e-158, stderr=0.020463529807398396, intercept_stderr=0.016730430347395558)\n[[266 111]\n [ 44 716]]\n\n 2020-10-18 00:00:00+00:00 \n\ncovariance\n[[0.2177708  0.13648352]\n [0.13648352 0.18656324]]\ncorrelation\n[[1.         0.67712265]\n [0.67712265 1.        ]]\nlin regression = LinregressResult(slope=0.6267301038062241, intercept=0.3259803921568657, rvalue=0.6771226496284896, pvalue=9.042791109373875e-172, stderr=0.019089748869191944, intercept_stderr=0.015741810190838746)\n[[275 133]\n [ 41 826]]\n\n 2020-10-25 00:00:00+00:00 \n\ncovariance\n[[0.21584778 0.14470802]\n [0.14470802 0.19396185]]\ncorrelation\n[[1.         0.70722995]\n [0.70722995 1.        ]]\nlin regression = LinregressResult(slope=0.6704169866123594, intercept=0.2776349614395887, rvalue=0.7072299540121542, pvalue=4.757715522364275e-188, stderr=0.019078143661670134, intercept_stderr=0.01579314361194412)\n[[281 108]\n [ 44 803]]\n\n 2020-11-01 00:00:00+00:00 \n\ncovariance\n[[0.22160174 0.13372538]\n [0.13372538 0.19262354]]\ncorrelation\n[[1.         0.64725076]\n [0.64725076 1.        ]]\nlin regression = LinregressResult(slope=0.6034491350860492, intercept=0.3361204013377921, rvalue=0.64725076179538, pvalue=6.223420901482242e-215, stderr=0.016732573180976578, intercept_stderr=0.013684764474039449)\n[[ 397  201]\n [  73 1135]]\n\n 2020-11-08 00:00:00+00:00 \n\ncovariance\n[[0.22414883 0.1274705 ]\n [0.1274705  0.19650129]]\ncorrelation\n[[1.         0.60737755]\n [0.60737755 1.        ]]\nlin regression = LinregressResult(slope=0.5686868686868677, intercept=0.3555555555555562, rvalue=0.6073775471504796, pvalue=1.2705390744226557e-81, stderr=0.02636358385443429, intercept_stderr=0.021444699420648576)\n[[174  96]\n [ 40 488]]\n\n 2020-11-15 00:00:00+00:00 \n\ncovariance\n[[0.21206868 0.1432231 ]\n [0.1432231  0.18899983]]\ncorrelation\n[[1.         0.71539203]\n [0.71539203 1.        ]]\nlin regression = LinregressResult(slope=0.6753618660835156, intercept=0.2777777777777778, rvalue=0.7153920330161202, pvalue=5.945497317190169e-241, stderr=0.01684715528703735, intercept_stderr=0.014046062571613983)\n[[ 338  130]\n [  50 1017]]\n\n 2020-11-22 00:00:00+00:00 \n\ncovariance\n[[0.22227979 0.12808967]\n [0.12808967 0.19003537]]\ncorrelation\n[[1.        0.6232279]\n [0.6232279 1.       ]]\nlin regression = LinregressResult(slope=0.5762542278871985, intercept=0.3608087091757387, rvalue=0.6232279045014002, pvalue=4.074402866061376e-208, stderr=0.0164680749525298, intercept_stderr=0.013447868506692115)\n[[ 411  232]\n [  81 1206]]\n\n 2020-11-29 00:00:00+00:00 \n\ncovariance\n[[0.20953746 0.13402595]\n [0.13402595 0.18947536]]\ncorrelation\n[[1.         0.67263847]\n [0.67263847 1.        ]]\nlin regression = LinregressResult(slope=0.6396276595744654, intercept=0.29787234042553373, rvalue=0.6726384662341435, pvalue=2.747924171434835e-22, stderr=0.056157863040270935, intercept_stderr=0.047132559290610346)\n[[ 33  14]\n [  7 105]]\n\n 2020-12-01 00:00:00+00:00 \n\ncovariance\n[[0.33333333 0.16666667]\n [0.16666667 0.33333333]]\ncorrelation\n[[1.  0.5]\n [0.5 1. ]]\nlin regression = LinregressResult(slope=0.5000000000000001, intercept=0.49999999999999994, rvalue=0.5000000000000001, pvalue=0.6666666666666667, stderr=0.8660254037844386, intercept_stderr=0.49999999999999994)\n[[1 1]\n [0 1]]\n"
     ]
    }
   ],
   "source": [
    "for day in sorted(dfcf['period_end_date'].unique()):\n",
    "    df_day = dfcf[dfcf['period_end_date'] == day]\n",
    "    print('\\n', day, '\\n')\n",
    "    x, y = df_day['predict_automatch'], df_day['class_acctual']\n",
    "    print('covariance')\n",
    "    print(np.cov(x, y))\n",
    "    print('correlation')\n",
    "    print(np.corrcoef(x, y))\n",
    "\n",
    "    result = scipy.stats.linregress(x, y)\n",
    "    print(f'lin regression = {result}')\n",
    "\n",
    "    con_matrix = confusion_matrix(x, y)\n",
    "    print(con_matrix)"
   ]
  },
  {
   "cell_type": "code",
   "execution_count": 46,
   "metadata": {},
   "outputs": [
    {
     "output_type": "execute_result",
     "data": {
      "text/plain": [
       "               period_end_date           translated_when  if_data_corrected  \\\n",
       "3172 2020-12-01 00:00:00+00:00 2020-11-17 07:23:45+00:00                  1   \n",
       "3967 2020-12-01 00:00:00+00:00 2020-11-20 08:34:30+00:00                  1   \n",
       "5566 2020-12-01 00:00:00+00:00 2020-11-17 14:22:33+00:00                  1   \n",
       "\n",
       "      prod_gr_id  country_id_n  delivery_type_id  freq_id  retailer_id  \\\n",
       "3172         426         114.0           36120.0        2           93   \n",
       "3967         426         114.0           36120.0        1          120   \n",
       "5566         426         114.0           36120.0        2           93   \n",
       "\n",
       "      brand_id  predict_automatch  class_acctual  \n",
       "3172        96                1.0              1  \n",
       "3967       259                0.0              0  \n",
       "5566        96                0.0              1  "
      ],
      "text/html": "<div>\n<style scoped>\n    .dataframe tbody tr th:only-of-type {\n        vertical-align: middle;\n    }\n\n    .dataframe tbody tr th {\n        vertical-align: top;\n    }\n\n    .dataframe thead th {\n        text-align: right;\n    }\n</style>\n<table border=\"1\" class=\"dataframe\">\n  <thead>\n    <tr style=\"text-align: right;\">\n      <th></th>\n      <th>period_end_date</th>\n      <th>translated_when</th>\n      <th>if_data_corrected</th>\n      <th>prod_gr_id</th>\n      <th>country_id_n</th>\n      <th>delivery_type_id</th>\n      <th>freq_id</th>\n      <th>retailer_id</th>\n      <th>brand_id</th>\n      <th>predict_automatch</th>\n      <th>class_acctual</th>\n    </tr>\n  </thead>\n  <tbody>\n    <tr>\n      <th>3172</th>\n      <td>2020-12-01 00:00:00+00:00</td>\n      <td>2020-11-17 07:23:45+00:00</td>\n      <td>1</td>\n      <td>426</td>\n      <td>114.0</td>\n      <td>36120.0</td>\n      <td>2</td>\n      <td>93</td>\n      <td>96</td>\n      <td>1.0</td>\n      <td>1</td>\n    </tr>\n    <tr>\n      <th>3967</th>\n      <td>2020-12-01 00:00:00+00:00</td>\n      <td>2020-11-20 08:34:30+00:00</td>\n      <td>1</td>\n      <td>426</td>\n      <td>114.0</td>\n      <td>36120.0</td>\n      <td>1</td>\n      <td>120</td>\n      <td>259</td>\n      <td>0.0</td>\n      <td>0</td>\n    </tr>\n    <tr>\n      <th>5566</th>\n      <td>2020-12-01 00:00:00+00:00</td>\n      <td>2020-11-17 14:22:33+00:00</td>\n      <td>1</td>\n      <td>426</td>\n      <td>114.0</td>\n      <td>36120.0</td>\n      <td>2</td>\n      <td>93</td>\n      <td>96</td>\n      <td>0.0</td>\n      <td>1</td>\n    </tr>\n  </tbody>\n</table>\n</div>"
     },
     "metadata": {},
     "execution_count": 46
    }
   ],
   "source": [
    "df[df['period_end_date'].dt.date == datetime.date(year=2020, month=12, day=1)]"
   ]
  },
  {
   "source": [
    "## Bivariate analysis by country"
   ],
   "cell_type": "markdown",
   "metadata": {}
  },
  {
   "cell_type": "code",
   "execution_count": 4,
   "metadata": {},
   "outputs": [
    {
     "output_type": "stream",
     "name": "stdout",
     "text": [
      "\n 103.0 (877,) (877,) \n\ncovariance\n[[0.20403461 0.1479072 ]\n [0.1479072  0.18350749]]\ncorrelation\n[[1.         0.76438205]\n [0.76438205 1.        ]]\n[[190  60]\n [ 22 605]]\n\n 104.0 (688,) (688,) \n\ncovariance\n[[0.2083016  0.15430038]\n [0.15430038 0.19552275]]\ncorrelation\n[[1.         0.76457844]\n [0.76457844 1.        ]]\n[[160  43]\n [ 23 462]]\n\n 105.0 (350,) (350,) \n\ncovariance\n[[0.22025379 0.16148997]\n [0.16148997 0.19295129]]\ncorrelation\n[[1.         0.78335753]\n [0.78335753 1.        ]]\n[[ 86  28]\n [  5 231]]\n\n 106.0 (726,) (726,) \n\ncovariance\n[[ 0.24559514 -0.07200722]\n [-0.07200722  0.19924575]]\ncorrelation\n[[ 1.         -0.32551547]\n [-0.32551547  1.        ]]\n[[ 61 352]\n [138 175]]\n\n 107.0 (356,) (356,) \n\ncovariance\n[[0.22028802 0.15511948]\n [0.15511948 0.2000633 ]]\ncorrelation\n[[1.         0.73890259]\n [0.73890259 1.        ]]\n[[ 87  29]\n [ 11 229]]\n\n 108.0 (3125,) (3125,) \n\ncovariance\n[[0.21277275 0.14942812]\n [0.14942812 0.19238474]]\ncorrelation\n[[1.         0.73856549]\n [0.73856549 1.        ]]\n[[ 716  243]\n [  96 2070]]\n\n 109.0 (373,) (373,) \n\ncovariance\n[[ 0.23825997 -0.09128254]\n [-0.09128254  0.1764248 ]]\ncorrelation\n[[ 1.         -0.44522788]\n [-0.44522788  1.        ]]\n[[ 18 210]\n [ 67  78]]\n\n 110.0 (1043,) (1043,) \n\ncovariance\n[[0.2098553  0.14926307]\n [0.14926307 0.19157605]]\ncorrelation\n[[1.         0.74442644]\n [0.74442644 1.        ]]\n[[236  76]\n [ 33 698]]\n\n 113.0 (1610,) (1610,) \n\ncovariance\n[[0.22138514 0.1244143 ]\n [0.1244143  0.18931399]]\ncorrelation\n[[1.         0.60772165]\n [0.60772165 1.        ]]\n[[ 335  197]\n [  73 1005]]\n\n 114.0 (691,) (691,) \n\ncovariance\n[[0.21409426 0.15233751]\n [0.15233751 0.18867426]]\ncorrelation\n[[1.         0.75796301]\n [0.75796301 1.        ]]\n[[159  55]\n [ 15 462]]\n\n 116.0 (465,) (465,) \n\ncovariance\n[[0.21002039 0.13367631]\n [0.13367631 0.18870968]]\ncorrelation\n[[1.         0.67147001]\n [0.67147001 1.        ]]\n[[ 97  42]\n [ 20 306]]\n\n 121.0 (4052,) (4052,) \n\ncovariance\n[[0.22534179 0.13244265]\n [0.13244265 0.19461637]]\ncorrelation\n[[1.         0.63243706]\n [0.63243706 1.        ]]\n[[ 904  485]\n [ 168 2495]]\n\n 126.0 (1349,) (1349,) \n\ncovariance\n[[0.21649953 0.15196387]\n [0.15196387 0.19156293]]\ncorrelation\n[[1.         0.74620151]\n [0.74620151 1.        ]]\n[[315 112]\n [ 33 889]]\n\n 136.0 (29,) (29,) \n\ncovariance\n[[0.22167488 0.12561576]\n [0.12561576 0.20689655]]\ncorrelation\n[[1.         0.58655573]\n [0.58655573 1.        ]]\n[[ 6  3]\n [ 2 18]]\n\n 138.0 (103,) (103,) \n\ncovariance\n[[0.23243861 0.10527318]\n [0.10527318 0.17513802]]\ncorrelation\n[[1.         0.52176313]\n [0.52176313 1.        ]]\n[[19 18]\n [ 4 62]]\n\n 139.0 (438,) (438,) \n\ncovariance\n[[0.24587004 0.03554748]\n [0.03554748 0.18849984]]\ncorrelation\n[[1.        0.1651203]\n [0.1651203 1.       ]]\n[[ 63 126]\n [ 47 202]]\n\n 160.0 (47,) (47,) \n\ncovariance\n[[0.22201665 0.18547641]\n [0.18547641 0.21369103]]\ncorrelation\n[[1.         0.85153552]\n [0.85153552 1.        ]]\n[[13  2]\n [ 1 31]]\n\n 176.0 (1020,) (1020,) \n\ncovariance\n[[0.22276646 0.13910119]\n [0.13910119 0.19059343]]\ncorrelation\n[[1.         0.67507496]\n [0.67507496 1.        ]]\n[[229 112]\n [ 32 647]]\n\n 177.0 (110,) (110,) \n\ncovariance\n[[0.21893244 0.18181818]\n [0.18181818 0.20817348]]\ncorrelation\n[[1.         0.85166647]\n [0.85166647 1.        ]]\n[[30  5]\n [ 2 73]]\n\n 1002.0 (15,) (15,) \n\ncovariance\n[[0.20952381 0.15714286]\n [0.15714286 0.17142857]]\ncorrelation\n[[1.        0.8291562]\n [0.8291562 1.       ]]\n[[ 3  1]\n [ 0 11]]\n\n 1010.0 (414,) (414,) \n\ncovariance\n[[0.21682399 0.13888012]\n [0.13888012 0.18364506]]\ncorrelation\n[[1.         0.69598002]\n [0.69598002 1.        ]]\n[[ 89  42]\n [ 11 272]]\n\n 1011.0 (178,) (178,) \n\ncovariance\n[[0.19542309 0.12143719]\n [0.12143719 0.16225481]]\ncorrelation\n[[1.         0.68196952]\n [0.68196952 1.        ]]\n[[ 31  16]\n [  5 126]]\n"
     ]
    }
   ],
   "source": [
    "for country in sorted(df['country_id_n'].unique()):\n",
    "    df_country = df[df['country_id_n'] == country]\n",
    "    \n",
    "    x, y = df_country ['predict_automatch'], df_country ['class_acctual']\n",
    "    print('\\n', country , x.shape, y.shape, '\\n')\n",
    "    if x.shape[0] and y.shape[0]:\n",
    "        print('covariance')\n",
    "        print(np.cov(x, y))\n",
    "        print('correlation')\n",
    "        print(np.corrcoef(x, y))\n",
    "        con_matrix = confusion_matrix(x, y)\n",
    "        print(con_matrix)\n",
    "        # print(f'lin regression = {result}')\n",
    "        # matrix = np.cov(x, y).round(decimals=2)\n",
    "        # fig, ax = plt.subplots()\n",
    "        # ax.imshow(matrix)\n",
    "        # ax.grid(False)\n",
    "        # ax.set_title(f'country id: {country}')\n",
    "        # ax.xaxis.set(ticks=(0, 1), ticklabels=('x', 'y'))\n",
    "        # ax.yaxis.set(ticks=(0, 1), ticklabels=('x', 'y'))\n",
    "        # ax.set_ylim(1.5, -0.5)\n",
    "        # for i in range(2):\n",
    "        #     for j in range(2):\n",
    "        #         ax.text(j, i, matrix[i, j], ha='center', va='center', color='w')\n",
    "        # plt.show()\n",
    "        # result = scipy.stats.linregress(x, y)\n",
    "        # fig, ax = plt.subplots()\n",
    "        # ax.set_title(f'country id: {country}')\n",
    "        # ax.plot(x, y, linewidth=0, marker='s', label='Data points')\n",
    "        # ax.plot(x, result.intercept + result.slope * x, label=\"\")\n",
    "        # ax.set_xlabel('x')\n",
    "        # ax.set_ylabel('y')\n",
    "        # ax.legend(facecolor='white')\n",
    "        # plt.show()\n",
    "\n",
    "\n"
   ]
  },
  {
   "source": [
    "Countries bad covariance: 109, 106"
   ],
   "cell_type": "markdown",
   "metadata": {}
  },
  {
   "source": [
    "## Bivariate analysis by if_data_corrected"
   ],
   "cell_type": "markdown",
   "metadata": {}
  },
  {
   "cell_type": "code",
   "execution_count": 7,
   "metadata": {},
   "outputs": [
    {
     "output_type": "stream",
     "name": "stdout",
     "text": [
      "\n 0 \n\ncovariance\n[[0.21844342 0.14034459]\n [0.14034459 0.19177413]]\ncorrelation\n[[1.         0.68569531]\n [0.68569531 1.        ]]\nlin regression = LinregressResult(slope=0.6424756966504725, intercept=0.3059322033898326, rvalue=0.6856953093645036, pvalue=0.0, stderr=0.005636250599296884, intercept_stderr=0.00463984862771137)\n[[3276 1444]\n [ 512 9412]]\n\n 1 \n\ncovariance\n[[0.21798569 0.1317351 ]\n [0.1317351  0.18844194]]\ncorrelation\n[[1.        0.6499781]\n [0.6499781 1.       ]]\nlin regression = LinregressResult(slope=0.604329110263282, intercept=0.337819650067296, rvalue=0.6499780999490244, pvalue=3.5235311898636334e-278, stderr=0.014688579973950545, intercept_stderr=0.012105281579315999)\n[[ 492  251]\n [  91 1482]]\n"
     ]
    }
   ],
   "source": [
    "for data_corr in sorted(dfcf['if_data_corrected'].unique()):\n",
    "    df_data_corr = dfcf[dfcf['if_data_corrected'] == data_corr]\n",
    "    print('\\n', data_corr, '\\n')\n",
    "    x, y = df_data_corr['predict_automatch'], df_data_corr['class_acctual']\n",
    "    print('covariance')\n",
    "    print(np.cov(x, y))\n",
    "    print('correlation')\n",
    "    print(np.corrcoef(x, y))\n",
    "\n",
    "    result = scipy.stats.linregress(x, y)\n",
    "    print(f'lin regression = {result}')\n",
    "\n",
    "    con_matrix = confusion_matrix(x, y)\n",
    "    print(con_matrix)"
   ]
  },
  {
   "source": [
    "## Bivariate analysis by prod_gr_id"
   ],
   "cell_type": "markdown",
   "metadata": {}
  },
  {
   "cell_type": "code",
   "execution_count": 8,
   "metadata": {},
   "outputs": [
    {
     "output_type": "stream",
     "name": "stdout",
     "text": [
      "\n 413 \n\ncovariance\n[[0.22331144 0.11857479]\n [0.11857479 0.18689557]]\ncorrelation\n[[1.         0.58041332]\n [0.58041332 1.        ]]\nlin regression = LinregressResult(slope=0.5309839460114679, intercept=0.3989713445995599, rvalue=0.580413317348414, pvalue=0.0, stderr=0.0117162421613903, intercept_stderr=0.009543778081147541)\n[[ 818  543]\n [ 188 2496]]\n\n 426 \n\ncovariance\n[[0.21847012 0.14224282]\n [0.14224282 0.19236378]]\ncorrelation\n[[1.        0.6938613]\n [0.6938613 1.       ]]\nlin regression = LinregressResult(slope=0.6510859127379902, intercept=0.2989214175654847, rvalue=0.6938613039611412, pvalue=0.0, stderr=0.006735632041280073, intercept_stderr=0.00554464717790789)\n[[2275  970]\n [ 341 6480]]\n\n 427 \n\ncovariance\n[[0.21039612 0.15789864]\n [0.15789864 0.19385128]]\ncorrelation\n[[1.         0.78185316]\n [0.78185316 1.        ]]\nlin regression = LinregressResult(slope=0.7504826775011381, intercept=0.21236872812135232, rvalue=0.7818531571141575, pvalue=0.0, stderr=0.011215849320175813, intercept_stderr=0.009378440091676982)\n[[ 675  182]\n [  74 1918]]\n"
     ]
    }
   ],
   "source": [
    "for prod_id in sorted(dfcf['prod_gr_id'].unique()):\n",
    "    df_data_corr = dfcf[dfcf['prod_gr_id'] == prod_id]\n",
    "    print('\\n', prod_id, '\\n')\n",
    "    x, y = df_data_corr['predict_automatch'], df_data_corr['class_acctual']\n",
    "    print('covariance')\n",
    "    print(np.cov(x, y))\n",
    "    print('correlation')\n",
    "    print(np.corrcoef(x, y))\n",
    "\n",
    "    result = scipy.stats.linregress(x, y)\n",
    "    print(f'lin regression = {result}')\n",
    "\n",
    "    con_matrix = confusion_matrix(x, y)\n",
    "    print(con_matrix)"
   ]
  },
  {
   "source": [
    "Bivariate analysis by prod_gr_id"
   ],
   "cell_type": "markdown",
   "metadata": {}
  }
 ]
}