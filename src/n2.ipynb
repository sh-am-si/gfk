{
 "metadata": {
  "language_info": {
   "codemirror_mode": {
    "name": "ipython",
    "version": 3
   },
   "file_extension": ".py",
   "mimetype": "text/x-python",
   "name": "python",
   "nbconvert_exporter": "python",
   "pygments_lexer": "ipython3",
   "version": "3.8.5-final"
  },
  "orig_nbformat": 2,
  "kernelspec": {
   "name": "python3",
   "display_name": "Python 3",
   "language": "python"
  }
 },
 "nbformat": 4,
 "nbformat_minor": 2,
 "cells": [
  {
   "cell_type": "code",
   "execution_count": 2,
   "metadata": {},
   "outputs": [
    {
     "output_type": "stream",
     "name": "stdout",
     "text": [
      "The autoreload extension is already loaded. To reload it, use:\n  %reload_ext autoreload\n"
     ]
    }
   ],
   "source": [
    "%load_ext autoreload\n",
    "%autoreload 2\n",
    "\n",
    "import pandas as pd\n",
    "import numpy as np\n",
    "\n",
    "import matplotlib.pylab as plt\n",
    "from matplotlib_venn import venn3\n",
    "from venn import venn\n",
    "%matplotlib inline\n",
    "\n",
    "from utils import prepare_df"
   ]
  },
  {
   "cell_type": "code",
   "execution_count": 3,
   "metadata": {},
   "outputs": [
    {
     "output_type": "execute_result",
     "data": {
      "text/plain": [
       "  period_end_date           translated_when  if_data_corrected  prod_gr_id  \\\n",
       "0             NaT 2020-10-15 06:58:28+00:00                  0         426   \n",
       "1             NaT 2020-10-15 06:38:34+00:00                  0         426   \n",
       "2      2020-09-20 2020-09-23 12:27:51+00:00                  0         426   \n",
       "3      2020-09-20 2020-09-23 12:26:41+00:00                  0         426   \n",
       "4      2020-09-20 2020-09-22 09:40:36+00:00                  0         426   \n",
       "\n",
       "   country_id_n  delivery_type_id  freq_id  retailer_id  brand_id  \\\n",
       "0         121.0               NaN        2           96       111   \n",
       "1           NaN               NaN        2           92        95   \n",
       "2         121.0           42730.0        2           30        37   \n",
       "3         121.0           42730.0        2           92       203   \n",
       "4         121.0           50128.0        2            9        31   \n",
       "\n",
       "   predict_automatch  class_acctual  \n",
       "0                1.0              1  \n",
       "1                0.0              1  \n",
       "2                1.0              1  \n",
       "3                1.0              1  \n",
       "4                1.0              1  "
      ],
      "text/html": "<div>\n<style scoped>\n    .dataframe tbody tr th:only-of-type {\n        vertical-align: middle;\n    }\n\n    .dataframe tbody tr th {\n        vertical-align: top;\n    }\n\n    .dataframe thead th {\n        text-align: right;\n    }\n</style>\n<table border=\"1\" class=\"dataframe\">\n  <thead>\n    <tr style=\"text-align: right;\">\n      <th></th>\n      <th>period_end_date</th>\n      <th>translated_when</th>\n      <th>if_data_corrected</th>\n      <th>prod_gr_id</th>\n      <th>country_id_n</th>\n      <th>delivery_type_id</th>\n      <th>freq_id</th>\n      <th>retailer_id</th>\n      <th>brand_id</th>\n      <th>predict_automatch</th>\n      <th>class_acctual</th>\n    </tr>\n  </thead>\n  <tbody>\n    <tr>\n      <th>0</th>\n      <td>NaT</td>\n      <td>2020-10-15 06:58:28+00:00</td>\n      <td>0</td>\n      <td>426</td>\n      <td>121.0</td>\n      <td>NaN</td>\n      <td>2</td>\n      <td>96</td>\n      <td>111</td>\n      <td>1.0</td>\n      <td>1</td>\n    </tr>\n    <tr>\n      <th>1</th>\n      <td>NaT</td>\n      <td>2020-10-15 06:38:34+00:00</td>\n      <td>0</td>\n      <td>426</td>\n      <td>NaN</td>\n      <td>NaN</td>\n      <td>2</td>\n      <td>92</td>\n      <td>95</td>\n      <td>0.0</td>\n      <td>1</td>\n    </tr>\n    <tr>\n      <th>2</th>\n      <td>2020-09-20</td>\n      <td>2020-09-23 12:27:51+00:00</td>\n      <td>0</td>\n      <td>426</td>\n      <td>121.0</td>\n      <td>42730.0</td>\n      <td>2</td>\n      <td>30</td>\n      <td>37</td>\n      <td>1.0</td>\n      <td>1</td>\n    </tr>\n    <tr>\n      <th>3</th>\n      <td>2020-09-20</td>\n      <td>2020-09-23 12:26:41+00:00</td>\n      <td>0</td>\n      <td>426</td>\n      <td>121.0</td>\n      <td>42730.0</td>\n      <td>2</td>\n      <td>92</td>\n      <td>203</td>\n      <td>1.0</td>\n      <td>1</td>\n    </tr>\n    <tr>\n      <th>4</th>\n      <td>2020-09-20</td>\n      <td>2020-09-22 09:40:36+00:00</td>\n      <td>0</td>\n      <td>426</td>\n      <td>121.0</td>\n      <td>50128.0</td>\n      <td>2</td>\n      <td>9</td>\n      <td>31</td>\n      <td>1.0</td>\n      <td>1</td>\n    </tr>\n  </tbody>\n</table>\n</div>"
     },
     "metadata": {},
     "execution_count": 3
    }
   ],
   "source": [
    "df = prepare_df()\n",
    "df.head()"
   ]
  },
  {
   "cell_type": "code",
   "execution_count": null,
   "metadata": {},
   "outputs": [],
   "source": []
  }
 ]
}